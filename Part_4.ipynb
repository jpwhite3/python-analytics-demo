{
 "cells": [
  {
   "cell_type": "markdown",
   "metadata": {},
   "source": [
    "# Regression and Prediction"
   ]
  },
  {
   "cell_type": "code",
   "execution_count": 1,
   "metadata": {
    "scrolled": true
   },
   "outputs": [],
   "source": [
    "import pandas as pd\n",
    "import numpy as np\n",
    "import seaborn as sns\n",
    "import statsmodels.formula.api as sm\n",
    "from scipy import stats\n",
    "stats.chisqprob = lambda chisq, df: stats.chi2.sf(chisq, df)"
   ]
  },
  {
   "cell_type": "markdown",
   "metadata": {
    "collapsed": true
   },
   "source": [
    "## Load up some data"
   ]
  },
  {
   "cell_type": "code",
   "execution_count": 2,
   "metadata": {},
   "outputs": [],
   "source": [
    "tips = pd.read_csv('input/tips.csv')\n",
    "tips['tip_percent'] = (tips['tip'] / tips['total_bill'] * 100)\n",
    "tips['tip_above_avg'] = np.where(tips['tip_percent'] >= tips['tip_percent'].mean(), 1, 0)\n",
    "tips.replace({'Yes': 1, 'No': 0}, inplace=True)"
   ]
  },
  {
   "cell_type": "markdown",
   "metadata": {},
   "source": [
    "### WTH Does that stuff mean?\n",
    "http://www.dummies.com/education/math/statistics/how-to-interpret-a-correlation-coefficient-r/"
   ]
  },
  {
   "cell_type": "code",
   "execution_count": 3,
   "metadata": {},
   "outputs": [
    {
     "data": {
      "text/html": [
       "<table class=\"simpletable\">\n",
       "<caption>OLS Regression Results</caption>\n",
       "<tr>\n",
       "  <th>Dep. Variable:</th>       <td>tip_percent</td>   <th>  R-squared:         </th> <td>   0.334</td>\n",
       "</tr>\n",
       "<tr>\n",
       "  <th>Model:</th>                   <td>OLS</td>       <th>  Adj. R-squared:    </th> <td>   0.312</td>\n",
       "</tr>\n",
       "<tr>\n",
       "  <th>Method:</th>             <td>Least Squares</td>  <th>  F-statistic:       </th> <td>   14.76</td>\n",
       "</tr>\n",
       "<tr>\n",
       "  <th>Date:</th>             <td>Mon, 16 Apr 2018</td> <th>  Prob (F-statistic):</th> <td>1.89e-17</td>\n",
       "</tr>\n",
       "<tr>\n",
       "  <th>Time:</th>                 <td>23:47:54</td>     <th>  Log-Likelihood:    </th> <td> -916.52</td>\n",
       "</tr>\n",
       "<tr>\n",
       "  <th>No. Observations:</th>      <td>   244</td>      <th>  AIC:               </th> <td>   1851.</td>\n",
       "</tr>\n",
       "<tr>\n",
       "  <th>Df Residuals:</th>          <td>   235</td>      <th>  BIC:               </th> <td>   1883.</td>\n",
       "</tr>\n",
       "<tr>\n",
       "  <th>Df Model:</th>              <td>     8</td>      <th>                     </th>     <td> </td>   \n",
       "</tr>\n",
       "<tr>\n",
       "  <th>Covariance Type:</th>      <td>nonrobust</td>    <th>                     </th>     <td> </td>   \n",
       "</tr>\n",
       "</table>\n",
       "<table class=\"simpletable\">\n",
       "<tr>\n",
       "             <td></td>                <th>coef</th>     <th>std err</th>      <th>t</th>      <th>P>|t|</th>  <th>[0.025</th>    <th>0.975]</th>  \n",
       "</tr>\n",
       "<tr>\n",
       "  <th>Intercept</th>               <td>   42.5140</td> <td>    3.720</td> <td>   11.429</td> <td> 0.000</td> <td>   35.186</td> <td>   49.842</td>\n",
       "</tr>\n",
       "<tr>\n",
       "  <th>C(ordered_alc_bev)[T.1]</th> <td>    1.7912</td> <td>    1.473</td> <td>    1.216</td> <td> 0.225</td> <td>   -1.110</td> <td>    4.692</td>\n",
       "</tr>\n",
       "<tr>\n",
       "  <th>C(gender)[T.Male]</th>       <td>    0.3495</td> <td>    1.461</td> <td>    0.239</td> <td> 0.811</td> <td>   -2.528</td> <td>    3.227</td>\n",
       "</tr>\n",
       "<tr>\n",
       "  <th>C(day)[T.Sat]</th>           <td>   -8.5745</td> <td>    3.188</td> <td>   -2.689</td> <td> 0.008</td> <td>  -14.856</td> <td>   -2.293</td>\n",
       "</tr>\n",
       "<tr>\n",
       "  <th>C(day)[T.Sun]</th>           <td>   -7.9049</td> <td>    3.286</td> <td>   -2.406</td> <td> 0.017</td> <td>  -14.378</td> <td>   -1.432</td>\n",
       "</tr>\n",
       "<tr>\n",
       "  <th>C(day)[T.Thur]</th>          <td>   -4.7105</td> <td>    4.048</td> <td>   -1.164</td> <td> 0.246</td> <td>  -12.686</td> <td>    3.265</td>\n",
       "</tr>\n",
       "<tr>\n",
       "  <th>C(time)[T.Lunch]</th>        <td>   -2.1070</td> <td>    4.569</td> <td>   -0.461</td> <td> 0.645</td> <td>  -11.108</td> <td>    6.895</td>\n",
       "</tr>\n",
       "<tr>\n",
       "  <th>total_bill</th>              <td>   -0.6502</td> <td>    0.097</td> <td>   -6.674</td> <td> 0.000</td> <td>   -0.842</td> <td>   -0.458</td>\n",
       "</tr>\n",
       "<tr>\n",
       "  <th>party_size</th>              <td>   -1.5466</td> <td>    0.916</td> <td>   -1.689</td> <td> 0.093</td> <td>   -3.351</td> <td>    0.257</td>\n",
       "</tr>\n",
       "</table>\n",
       "<table class=\"simpletable\">\n",
       "<tr>\n",
       "  <th>Omnibus:</th>       <td>172.635</td> <th>  Durbin-Watson:     </th> <td>   2.119</td>\n",
       "</tr>\n",
       "<tr>\n",
       "  <th>Prob(Omnibus):</th> <td> 0.000</td>  <th>  Jarque-Bera (JB):  </th> <td>2382.625</td>\n",
       "</tr>\n",
       "<tr>\n",
       "  <th>Skew:</th>          <td> 2.613</td>  <th>  Prob(JB):          </th> <td>    0.00</td>\n",
       "</tr>\n",
       "<tr>\n",
       "  <th>Kurtosis:</th>      <td>17.389</td>  <th>  Cond. No.          </th> <td>    206.</td>\n",
       "</tr>\n",
       "</table>"
      ],
      "text/plain": [
       "<class 'statsmodels.iolib.summary.Summary'>\n",
       "\"\"\"\n",
       "                            OLS Regression Results                            \n",
       "==============================================================================\n",
       "Dep. Variable:            tip_percent   R-squared:                       0.334\n",
       "Model:                            OLS   Adj. R-squared:                  0.312\n",
       "Method:                 Least Squares   F-statistic:                     14.76\n",
       "Date:                Mon, 16 Apr 2018   Prob (F-statistic):           1.89e-17\n",
       "Time:                        23:47:54   Log-Likelihood:                -916.52\n",
       "No. Observations:                 244   AIC:                             1851.\n",
       "Df Residuals:                     235   BIC:                             1883.\n",
       "Df Model:                           8                                         \n",
       "Covariance Type:            nonrobust                                         \n",
       "===========================================================================================\n",
       "                              coef    std err          t      P>|t|      [0.025      0.975]\n",
       "-------------------------------------------------------------------------------------------\n",
       "Intercept                  42.5140      3.720     11.429      0.000      35.186      49.842\n",
       "C(ordered_alc_bev)[T.1]     1.7912      1.473      1.216      0.225      -1.110       4.692\n",
       "C(gender)[T.Male]           0.3495      1.461      0.239      0.811      -2.528       3.227\n",
       "C(day)[T.Sat]              -8.5745      3.188     -2.689      0.008     -14.856      -2.293\n",
       "C(day)[T.Sun]              -7.9049      3.286     -2.406      0.017     -14.378      -1.432\n",
       "C(day)[T.Thur]             -4.7105      4.048     -1.164      0.246     -12.686       3.265\n",
       "C(time)[T.Lunch]           -2.1070      4.569     -0.461      0.645     -11.108       6.895\n",
       "total_bill                 -0.6502      0.097     -6.674      0.000      -0.842      -0.458\n",
       "party_size                 -1.5466      0.916     -1.689      0.093      -3.351       0.257\n",
       "==============================================================================\n",
       "Omnibus:                      172.635   Durbin-Watson:                   2.119\n",
       "Prob(Omnibus):                  0.000   Jarque-Bera (JB):             2382.625\n",
       "Skew:                           2.613   Prob(JB):                         0.00\n",
       "Kurtosis:                      17.389   Cond. No.                         206.\n",
       "==============================================================================\n",
       "\n",
       "Warnings:\n",
       "[1] Standard Errors assume that the covariance matrix of the errors is correctly specified.\n",
       "\"\"\""
      ]
     },
     "execution_count": 3,
     "metadata": {},
     "output_type": "execute_result"
    }
   ],
   "source": [
    "# Describe what we want using R-style formulas\n",
    "formula = 'tip_percent ~ total_bill + party_size + C(ordered_alc_bev) + C(gender) + C(day) + C(time)'\n",
    "model = sm.ols(formula, data=tips)    # Describe model\n",
    "results = model.fit()                 # Fit model       \n",
    "results.summary()                     # Summarize model"
   ]
  },
  {
   "cell_type": "code",
   "execution_count": 4,
   "metadata": {},
   "outputs": [
    {
     "data": {
      "text/plain": [
       "[20.8648081851993]"
      ]
     },
     "execution_count": 4,
     "metadata": {},
     "output_type": "execute_result"
    }
   ],
   "source": [
    "columns = ['total_bill', 'gender', 'ordered_alc_bev', 'day', 'time', 'party_size']\n",
    "data = [[15.52, 'Female', 0, 'Sun', 'Lunch', 1]]\n",
    "\n",
    "df = pd.DataFrame(data, columns=columns)\n",
    "\n",
    "predictions = results.predict(df).tolist()  # Convert to simple list\n",
    "predictions"
   ]
  },
  {
   "cell_type": "markdown",
   "metadata": {},
   "source": [
    "http://blog.yhat.com/posts/logistic-regression-python-rodeo.html"
   ]
  },
  {
   "cell_type": "code",
   "execution_count": 5,
   "metadata": {},
   "outputs": [
    {
     "name": "stdout",
     "output_type": "stream",
     "text": [
      "Optimization terminated successfully.\n",
      "         Current function value: 0.576896\n",
      "         Iterations 6\n"
     ]
    },
    {
     "data": {
      "text/html": [
       "<table class=\"simpletable\">\n",
       "<caption>Logit Regression Results</caption>\n",
       "<tr>\n",
       "  <th>Dep. Variable:</th>   <td>tip_above_avg</td>  <th>  No. Observations:  </th>  <td>   244</td>  \n",
       "</tr>\n",
       "<tr>\n",
       "  <th>Model:</th>               <td>Logit</td>      <th>  Df Residuals:      </th>  <td>   241</td>  \n",
       "</tr>\n",
       "<tr>\n",
       "  <th>Method:</th>               <td>MLE</td>       <th>  Df Model:          </th>  <td>     2</td>  \n",
       "</tr>\n",
       "<tr>\n",
       "  <th>Date:</th>          <td>Mon, 16 Apr 2018</td> <th>  Pseudo R-squ.:     </th>  <td>0.1457</td>  \n",
       "</tr>\n",
       "<tr>\n",
       "  <th>Time:</th>              <td>23:47:54</td>     <th>  Log-Likelihood:    </th> <td> -140.76</td> \n",
       "</tr>\n",
       "<tr>\n",
       "  <th>converged:</th>           <td>True</td>       <th>  LL-Null:           </th> <td> -164.77</td> \n",
       "</tr>\n",
       "<tr>\n",
       "  <th> </th>                      <td> </td>        <th>  LLR p-value:       </th> <td>3.763e-11</td>\n",
       "</tr>\n",
       "</table>\n",
       "<table class=\"simpletable\">\n",
       "<tr>\n",
       "         <td></td>            <th>coef</th>     <th>std err</th>      <th>z</th>      <th>P>|z|</th>  <th>[0.025</th>    <th>0.975]</th>  \n",
       "</tr>\n",
       "<tr>\n",
       "  <th>total_bill</th>      <td>   -0.1123</td> <td>    0.025</td> <td>   -4.524</td> <td> 0.000</td> <td>   -0.161</td> <td>   -0.064</td>\n",
       "</tr>\n",
       "<tr>\n",
       "  <th>party_size</th>      <td>    0.3599</td> <td>    0.172</td> <td>    2.095</td> <td> 0.036</td> <td>    0.023</td> <td>    0.697</td>\n",
       "</tr>\n",
       "<tr>\n",
       "  <th>ordered_alc_bev</th> <td>    1.1323</td> <td>    0.280</td> <td>    4.039</td> <td> 0.000</td> <td>    0.583</td> <td>    1.682</td>\n",
       "</tr>\n",
       "</table>"
      ],
      "text/plain": [
       "<class 'statsmodels.iolib.summary.Summary'>\n",
       "\"\"\"\n",
       "                           Logit Regression Results                           \n",
       "==============================================================================\n",
       "Dep. Variable:          tip_above_avg   No. Observations:                  244\n",
       "Model:                          Logit   Df Residuals:                      241\n",
       "Method:                           MLE   Df Model:                            2\n",
       "Date:                Mon, 16 Apr 2018   Pseudo R-squ.:                  0.1457\n",
       "Time:                        23:47:54   Log-Likelihood:                -140.76\n",
       "converged:                       True   LL-Null:                       -164.77\n",
       "                                        LLR p-value:                 3.763e-11\n",
       "===================================================================================\n",
       "                      coef    std err          z      P>|z|      [0.025      0.975]\n",
       "-----------------------------------------------------------------------------------\n",
       "total_bill         -0.1123      0.025     -4.524      0.000      -0.161      -0.064\n",
       "party_size          0.3599      0.172      2.095      0.036       0.023       0.697\n",
       "ordered_alc_bev     1.1323      0.280      4.039      0.000       0.583       1.682\n",
       "===================================================================================\n",
       "\"\"\""
      ]
     },
     "execution_count": 5,
     "metadata": {},
     "output_type": "execute_result"
    }
   ],
   "source": [
    "columns = ['total_bill', 'party_size', 'ordered_alc_bev']\n",
    "training_columns = tips[columns].columns\n",
    "logit = sm.Logit(tips['tip_above_avg'], tips[training_columns])  # Describe model\n",
    "results = logit.fit()                                            # Fit model  \n",
    "results.summary()                                                # Summarize model"
   ]
  },
  {
   "cell_type": "code",
   "execution_count": 6,
   "metadata": {},
   "outputs": [
    {
     "data": {
      "text/plain": [
       "[0.5640802818887375]"
      ]
     },
     "execution_count": 6,
     "metadata": {},
     "output_type": "execute_result"
    }
   ],
   "source": [
    "data = [[10.52, 4, 0]]\n",
    "df = pd.DataFrame(data, columns=columns)\n",
    "predictions = results.predict(df).tolist()  # Convert to simple list\n",
    "\n",
    "predictions"
   ]
  },
  {
   "cell_type": "code",
   "execution_count": 7,
   "metadata": {},
   "outputs": [
    {
     "data": {
      "text/plain": [
       "{'total_bill': 58.26,\n",
       " 'predicted_tip': 8.08,\n",
       " 'tip_percentage': 0.14,\n",
       " 'tip_above_average': 'No'}"
      ]
     },
     "execution_count": 7,
     "metadata": {},
     "output_type": "execute_result"
    }
   ],
   "source": [
    "from requests import get, post\n",
    "request_data = [\n",
    "\t{\"total_bill\": 22.50, \"party_size\": 3, \"ordered_alc_bev\": 1, \"gender\": \"Female\", \"day\": \"Sat\", \"time\": \"Dinner\"},\n",
    "\t{\"total_bill\": 18.62, \"party_size\": 3, \"ordered_alc_bev\": 1, \"gender\": \"Female\", \"day\": \"Sat\", \"time\": \"Dinner\"},\n",
    "\t{\"total_bill\": 17.14, \"party_size\": 3, \"ordered_alc_bev\": 0, \"gender\": \"Female\", \"day\": \"Sat\", \"time\": \"Dinner\"},\n",
    "]\n",
    "post('http://localhost:5000/', json=request_data).json()"
   ]
  },
  {
   "cell_type": "code",
   "execution_count": null,
   "metadata": {},
   "outputs": [],
   "source": []
  }
 ],
 "metadata": {
  "kernelspec": {
   "display_name": "Python 3",
   "language": "python",
   "name": "python3"
  },
  "language_info": {
   "codemirror_mode": {
    "name": "ipython",
    "version": 3
   },
   "file_extension": ".py",
   "mimetype": "text/x-python",
   "name": "python",
   "nbconvert_exporter": "python",
   "pygments_lexer": "ipython3",
   "version": "3.6.5"
  }
 },
 "nbformat": 4,
 "nbformat_minor": 1
}
