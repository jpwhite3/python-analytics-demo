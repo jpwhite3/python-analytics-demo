{
 "cells": [
  {
   "cell_type": "markdown",
   "metadata": {},
   "source": [
    "# Regression and Prediction"
   ]
  },
  {
   "cell_type": "code",
   "execution_count": 64,
   "metadata": {
    "collapsed": false,
    "scrolled": true
   },
   "outputs": [],
   "source": [
    "import pandas as pd\n",
    "import seaborn as sns\n",
    "import statsmodels.formula.api as sm"
   ]
  },
  {
   "cell_type": "markdown",
   "metadata": {
    "collapsed": true
   },
   "source": [
    "## Load up some data"
   ]
  },
  {
   "cell_type": "code",
   "execution_count": 8,
   "metadata": {
    "collapsed": false
   },
   "outputs": [],
   "source": [
    "tips = sns.load_dataset(\"tips\")\n",
    "tips.rename(columns={'smoker': 'drinker', 'sex': 'gender'}, inplace=True) # Just a little column renaming"
   ]
  },
  {
   "cell_type": "code",
   "execution_count": 9,
   "metadata": {
    "collapsed": false
   },
   "outputs": [
    {
     "data": {
      "text/html": [
       "<table class=\"simpletable\">\n",
       "<caption>OLS Regression Results</caption>\n",
       "<tr>\n",
       "  <th>Dep. Variable:</th>           <td>tip</td>       <th>  R-squared:         </th> <td>   0.470</td>\n",
       "</tr>\n",
       "<tr>\n",
       "  <th>Model:</th>                   <td>OLS</td>       <th>  Adj. R-squared:    </th> <td>   0.452</td>\n",
       "</tr>\n",
       "<tr>\n",
       "  <th>Method:</th>             <td>Least Squares</td>  <th>  F-statistic:       </th> <td>   26.06</td>\n",
       "</tr>\n",
       "<tr>\n",
       "  <th>Date:</th>             <td>Fri, 11 Mar 2016</td> <th>  Prob (F-statistic):</th> <td>1.20e-28</td>\n",
       "</tr>\n",
       "<tr>\n",
       "  <th>Time:</th>                 <td>21:32:07</td>     <th>  Log-Likelihood:    </th> <td> -347.48</td>\n",
       "</tr>\n",
       "<tr>\n",
       "  <th>No. Observations:</th>      <td>   244</td>      <th>  AIC:               </th> <td>   713.0</td>\n",
       "</tr>\n",
       "<tr>\n",
       "  <th>Df Residuals:</th>          <td>   235</td>      <th>  BIC:               </th> <td>   744.4</td>\n",
       "</tr>\n",
       "<tr>\n",
       "  <th>Df Model:</th>              <td>     8</td>      <th>                     </th>     <td> </td>   \n",
       "</tr>\n",
       "<tr>\n",
       "  <th>Covariance Type:</th>      <td>nonrobust</td>    <th>                     </th>     <td> </td>   \n",
       "</tr>\n",
       "</table>\n",
       "<table class=\"simpletable\">\n",
       "<tr>\n",
       "           <td></td>              <th>coef</th>     <th>std err</th>      <th>t</th>      <th>P>|t|</th> <th>[95.0% Conf. Int.]</th> \n",
       "</tr>\n",
       "<tr>\n",
       "  <th>Intercept</th>           <td>    0.5908</td> <td>    0.256</td> <td>    2.310</td> <td> 0.022</td> <td>    0.087     1.095</td>\n",
       "</tr>\n",
       "<tr>\n",
       "  <th>C(gender)[T.Female]</th> <td>    0.0324</td> <td>    0.142</td> <td>    0.229</td> <td> 0.819</td> <td>   -0.247     0.311</td>\n",
       "</tr>\n",
       "<tr>\n",
       "  <th>C(drinker)[T.No]</th>    <td>    0.0864</td> <td>    0.147</td> <td>    0.589</td> <td> 0.556</td> <td>   -0.202     0.375</td>\n",
       "</tr>\n",
       "<tr>\n",
       "  <th>C(day)[T.Fri]</th>       <td>    0.1623</td> <td>    0.393</td> <td>    0.412</td> <td> 0.680</td> <td>   -0.613     0.937</td>\n",
       "</tr>\n",
       "<tr>\n",
       "  <th>C(day)[T.Sat]</th>       <td>    0.0408</td> <td>    0.471</td> <td>    0.087</td> <td> 0.931</td> <td>   -0.886     0.968</td>\n",
       "</tr>\n",
       "<tr>\n",
       "  <th>C(day)[T.Sun]</th>       <td>    0.1368</td> <td>    0.472</td> <td>    0.290</td> <td> 0.772</td> <td>   -0.793     1.066</td>\n",
       "</tr>\n",
       "<tr>\n",
       "  <th>C(time)[T.Dinner]</th>   <td>   -0.0681</td> <td>    0.445</td> <td>   -0.153</td> <td> 0.878</td> <td>   -0.944     0.808</td>\n",
       "</tr>\n",
       "<tr>\n",
       "  <th>total_bill</th>          <td>    0.0945</td> <td>    0.010</td> <td>    9.841</td> <td> 0.000</td> <td>    0.076     0.113</td>\n",
       "</tr>\n",
       "<tr>\n",
       "  <th>size</th>                <td>    0.1760</td> <td>    0.090</td> <td>    1.966</td> <td> 0.051</td> <td>   -0.000     0.352</td>\n",
       "</tr>\n",
       "</table>\n",
       "<table class=\"simpletable\">\n",
       "<tr>\n",
       "  <th>Omnibus:</th>       <td>27.860</td> <th>  Durbin-Watson:     </th> <td>   2.096</td>\n",
       "</tr>\n",
       "<tr>\n",
       "  <th>Prob(Omnibus):</th> <td> 0.000</td> <th>  Jarque-Bera (JB):  </th> <td>  52.555</td>\n",
       "</tr>\n",
       "<tr>\n",
       "  <th>Skew:</th>          <td> 0.607</td> <th>  Prob(JB):          </th> <td>3.87e-12</td>\n",
       "</tr>\n",
       "<tr>\n",
       "  <th>Kurtosis:</th>      <td> 4.923</td> <th>  Cond. No.          </th> <td>    281.</td>\n",
       "</tr>\n",
       "</table>"
      ],
      "text/plain": [
       "<class 'statsmodels.iolib.summary.Summary'>\n",
       "\"\"\"\n",
       "                            OLS Regression Results                            \n",
       "==============================================================================\n",
       "Dep. Variable:                    tip   R-squared:                       0.470\n",
       "Model:                            OLS   Adj. R-squared:                  0.452\n",
       "Method:                 Least Squares   F-statistic:                     26.06\n",
       "Date:                Fri, 11 Mar 2016   Prob (F-statistic):           1.20e-28\n",
       "Time:                        21:32:07   Log-Likelihood:                -347.48\n",
       "No. Observations:                 244   AIC:                             713.0\n",
       "Df Residuals:                     235   BIC:                             744.4\n",
       "Df Model:                           8                                         \n",
       "Covariance Type:            nonrobust                                         \n",
       "=======================================================================================\n",
       "                          coef    std err          t      P>|t|      [95.0% Conf. Int.]\n",
       "---------------------------------------------------------------------------------------\n",
       "Intercept               0.5908      0.256      2.310      0.022         0.087     1.095\n",
       "C(gender)[T.Female]     0.0324      0.142      0.229      0.819        -0.247     0.311\n",
       "C(drinker)[T.No]        0.0864      0.147      0.589      0.556        -0.202     0.375\n",
       "C(day)[T.Fri]           0.1623      0.393      0.412      0.680        -0.613     0.937\n",
       "C(day)[T.Sat]           0.0408      0.471      0.087      0.931        -0.886     0.968\n",
       "C(day)[T.Sun]           0.1368      0.472      0.290      0.772        -0.793     1.066\n",
       "C(time)[T.Dinner]      -0.0681      0.445     -0.153      0.878        -0.944     0.808\n",
       "total_bill              0.0945      0.010      9.841      0.000         0.076     0.113\n",
       "size                    0.1760      0.090      1.966      0.051        -0.000     0.352\n",
       "==============================================================================\n",
       "Omnibus:                       27.860   Durbin-Watson:                   2.096\n",
       "Prob(Omnibus):                  0.000   Jarque-Bera (JB):               52.555\n",
       "Skew:                           0.607   Prob(JB):                     3.87e-12\n",
       "Kurtosis:                       4.923   Cond. No.                         281.\n",
       "==============================================================================\n",
       "\n",
       "Warnings:\n",
       "[1] Standard Errors assume that the covariance matrix of the errors is correctly specified.\n",
       "\"\"\""
      ]
     },
     "execution_count": 9,
     "metadata": {},
     "output_type": "execute_result"
    }
   ],
   "source": [
    "# Describe what we want using R-style formulas\n",
    "formula = 'tip ~ total_bill + size + C(gender) + C(drinker) + C(day) + C(time)'\n",
    "model = sm.ols(formula, data=tips)    # Describe model\n",
    "results = model.fit()                 # Fit model       \n",
    "results.summary()                     # Summarize model"
   ]
  },
  {
   "cell_type": "code",
   "execution_count": 61,
   "metadata": {
    "collapsed": false
   },
   "outputs": [],
   "source": [
    "columns = ['total_bill', 'gender', 'drinker', 'day', 'time', 'size']\n",
    "data = [[15.52, 'Female', 'No', 'Sun', 'Lunch', 1]]\n",
    "df = pd.DataFrame(data, columns=columns)\n",
    "predictions = results.predict(df).tolist()  # Convert to simple list"
   ]
  },
  {
   "cell_type": "code",
   "execution_count": 62,
   "metadata": {
    "collapsed": false
   },
   "outputs": [
    {
     "data": {
      "text/plain": [
       "[2.488895559955752]"
      ]
     },
     "execution_count": 62,
     "metadata": {},
     "output_type": "execute_result"
    }
   ],
   "source": [
    "predictions"
   ]
  },
  {
   "cell_type": "code",
   "execution_count": 63,
   "metadata": {
    "collapsed": false
   },
   "outputs": [
    {
     "data": {
      "text/plain": [
       "{u'bill': 128.49, u'predicted_tip': 15.51, u'tip_percentage': 0.12}"
      ]
     },
     "execution_count": 63,
     "metadata": {},
     "output_type": "execute_result"
    }
   ],
   "source": [
    "from requests import get, post\n",
    "request_data = [\n",
    "\t{\"total_bill\": 47.26, \"gender\": \"Female\", \"drinker\": \"Yes\", \"day\": \"Sat\", \"time\": \"Dinner\", \"size\": 3},\n",
    "\t{\"total_bill\": 38.73, \"gender\": \"Female\", \"drinker\": \"Yes\", \"day\": \"Sat\", \"time\": \"Dinner\", \"size\": 3},\n",
    "\t{\"total_bill\": 42.50, \"gender\": \"Female\", \"drinker\": \"Yes\", \"day\": \"Sat\", \"time\": \"Dinner\", \"size\": 3},\n",
    "]\n",
    "post('http://localhost:5000/', json=request_data).json()"
   ]
  },
  {
   "cell_type": "code",
   "execution_count": null,
   "metadata": {
    "collapsed": true
   },
   "outputs": [],
   "source": []
  }
 ],
 "metadata": {
  "kernelspec": {
   "display_name": "Python 2",
   "language": "python",
   "name": "python2"
  },
  "language_info": {
   "codemirror_mode": {
    "name": "ipython",
    "version": 2
   },
   "file_extension": ".py",
   "mimetype": "text/x-python",
   "name": "python",
   "nbconvert_exporter": "python",
   "pygments_lexer": "ipython2",
   "version": "2.7.11"
  }
 },
 "nbformat": 4,
 "nbformat_minor": 0
}
